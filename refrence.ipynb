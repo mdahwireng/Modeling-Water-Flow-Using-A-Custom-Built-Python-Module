{
  "nbformat": 4,
  "nbformat_minor": 0,
  "metadata": {
    "colab": {
      "name": "refrence.ipynb",
      "provenance": [],
      "authorship_tag": "ABX9TyMEYXIZxDydnmMkPsTwFL03"
    },
    "kernelspec": {
      "name": "python3",
      "display_name": "Python 3"
    },
    "language_info": {
      "name": "python"
    }
  },
  "cells": [
    {
      "cell_type": "code",
      "metadata": {
        "colab": {
          "base_uri": "https://localhost:8080/"
        },
        "id": "LA9FQfqFe4Zo",
        "outputId": "c9685d79-3cc7-4815-c12d-898930b625a9"
      },
      "source": [
        "pip install geopandas"
      ],
      "execution_count": 1,
      "outputs": [
        {
          "output_type": "stream",
          "text": [
            "Requirement already satisfied: geopandas in /usr/local/lib/python3.7/dist-packages (0.9.0)\n",
            "Requirement already satisfied: fiona>=1.8 in /usr/local/lib/python3.7/dist-packages (from geopandas) (1.8.20)\n",
            "Requirement already satisfied: pyproj>=2.2.0 in /usr/local/lib/python3.7/dist-packages (from geopandas) (3.1.0)\n",
            "Requirement already satisfied: shapely>=1.6 in /usr/local/lib/python3.7/dist-packages (from geopandas) (1.7.1)\n",
            "Requirement already satisfied: pandas>=0.24.0 in /usr/local/lib/python3.7/dist-packages (from geopandas) (1.1.5)\n",
            "Requirement already satisfied: six>=1.7 in /usr/local/lib/python3.7/dist-packages (from fiona>=1.8->geopandas) (1.15.0)\n",
            "Requirement already satisfied: click-plugins>=1.0 in /usr/local/lib/python3.7/dist-packages (from fiona>=1.8->geopandas) (1.1.1)\n",
            "Requirement already satisfied: cligj>=0.5 in /usr/local/lib/python3.7/dist-packages (from fiona>=1.8->geopandas) (0.7.2)\n",
            "Requirement already satisfied: certifi in /usr/local/lib/python3.7/dist-packages (from fiona>=1.8->geopandas) (2021.5.30)\n",
            "Requirement already satisfied: click>=4.0 in /usr/local/lib/python3.7/dist-packages (from fiona>=1.8->geopandas) (7.1.2)\n",
            "Requirement already satisfied: munch in /usr/local/lib/python3.7/dist-packages (from fiona>=1.8->geopandas) (2.5.0)\n",
            "Requirement already satisfied: setuptools in /usr/local/lib/python3.7/dist-packages (from fiona>=1.8->geopandas) (57.4.0)\n",
            "Requirement already satisfied: attrs>=17 in /usr/local/lib/python3.7/dist-packages (from fiona>=1.8->geopandas) (21.2.0)\n",
            "Requirement already satisfied: python-dateutil>=2.7.3 in /usr/local/lib/python3.7/dist-packages (from pandas>=0.24.0->geopandas) (2.8.2)\n",
            "Requirement already satisfied: pytz>=2017.2 in /usr/local/lib/python3.7/dist-packages (from pandas>=0.24.0->geopandas) (2018.9)\n",
            "Requirement already satisfied: numpy>=1.15.4 in /usr/local/lib/python3.7/dist-packages (from pandas>=0.24.0->geopandas) (1.19.5)\n"
          ],
          "name": "stdout"
        }
      ]
    },
    {
      "cell_type": "code",
      "metadata": {
        "id": "gC1-Mxj9fvqQ"
      },
      "source": [
        "from reference import CreateReference"
      ],
      "execution_count": 2,
      "outputs": []
    },
    {
      "cell_type": "code",
      "metadata": {
        "id": "flA5wSekgN_9"
      },
      "source": [
        "ref = CreateReference(regfile_path='file.txt')"
      ],
      "execution_count": 3,
      "outputs": []
    },
    {
      "cell_type": "code",
      "metadata": {
        "id": "xwnMNYn0j24Q",
        "colab": {
          "base_uri": "https://localhost:8080/"
        },
        "outputId": "9a9d3fe8-68d6-4f11-adc7-3771afce157d"
      },
      "source": [
        "ref.run_all(dict_save_path=('.'), dataframe_save_path='.')"
      ],
      "execution_count": 4,
      "outputs": [
        {
          "output_type": "stream",
          "text": [
            "\n",
            "Counter: 100\n",
            "\n",
            "Counter: 200\n",
            "\n",
            "Counter: 300\n",
            "\n",
            "Counter: 400\n",
            "\n",
            "Counter: 500\n",
            "\n",
            "Counter: 600\n",
            "\n",
            "Counter: 700\n",
            "\n",
            "Counter: 800\n",
            "\n",
            "Counter: 900\n",
            "\n",
            "Counter: 1000\n",
            "\n",
            "Counter: 1100\n",
            "\n",
            "Counter: 1200\n",
            "\n",
            "Counter: 1300\n",
            "\n",
            "Counter: 1400\n",
            "\n",
            "Counter: 1500\n",
            "Dictionary saved as gdf_dict.pkl to .\n"
          ],
          "name": "stdout"
        }
      ]
    }
  ]
}